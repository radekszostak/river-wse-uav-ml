{
 "cells": [
  {
   "cell_type": "code",
   "execution_count": 38,
   "metadata": {},
   "outputs": [],
   "source": [
    "import pandas as pd\n",
    "directory = \"plots/AMO18\""
   ]
  },
  {
   "cell_type": "code",
   "execution_count": 39,
   "metadata": {},
   "outputs": [],
   "source": [
    "# *_raster_val.txt files need to have the following columns: chainage, elevation, and RASTERVALU.\n",
    "centerline_raster_val = pd.read_csv(f'{directory}/centerline_raster_val.txt', sep=',', header=[0])\n",
    "wateredge_raster_val = pd.read_csv(f'{directory}/wateredge_raster_val.txt', sep=',', header=[0])"
   ]
  },
  {
   "cell_type": "code",
   "execution_count": 40,
   "metadata": {},
   "outputs": [
    {
     "name": "stderr",
     "output_type": "stream",
     "text": [
      "C:\\Users\\48794\\AppData\\Local\\Temp/ipykernel_10680/4102875172.py:3: SettingWithCopyWarning: \n",
      "A value is trying to be set on a copy of a slice from a DataFrame\n",
      "\n",
      "See the caveats in the documentation: https://pandas.pydata.org/pandas-docs/stable/user_guide/indexing.html#returning-a-view-versus-a-copy\n",
      "  centerline.rename(columns={'RASTERVALU': 'raster_value'}, inplace=True)\n",
      "C:\\Users\\48794\\AppData\\Local\\Temp/ipykernel_10680/4102875172.py:4: SettingWithCopyWarning: \n",
      "A value is trying to be set on a copy of a slice from a DataFrame\n",
      "\n",
      "See the caveats in the documentation: https://pandas.pydata.org/pandas-docs/stable/user_guide/indexing.html#returning-a-view-versus-a-copy\n",
      "  centerline.rename(columns={'elevation': 'true_wse'}, inplace=True)\n",
      "C:\\Users\\48794\\AppData\\Local\\Temp/ipykernel_10680/4102875172.py:7: SettingWithCopyWarning: \n",
      "A value is trying to be set on a copy of a slice from a DataFrame\n",
      "\n",
      "See the caveats in the documentation: https://pandas.pydata.org/pandas-docs/stable/user_guide/indexing.html#returning-a-view-versus-a-copy\n",
      "  wateredge.rename(columns={'RASTERVALU': 'raster_value'}, inplace=True)\n",
      "C:\\Users\\48794\\AppData\\Local\\Temp/ipykernel_10680/4102875172.py:8: SettingWithCopyWarning: \n",
      "A value is trying to be set on a copy of a slice from a DataFrame\n",
      "\n",
      "See the caveats in the documentation: https://pandas.pydata.org/pandas-docs/stable/user_guide/indexing.html#returning-a-view-versus-a-copy\n",
      "  wateredge.rename(columns={'elevation': 'true_wse'}, inplace=True)\n"
     ]
    }
   ],
   "source": [
    "centerline = centerline_raster_val[['chainage', 'elevation', 'RASTERVALU']]\n",
    "#rename column rastervalu to elevation\n",
    "centerline.rename(columns={'RASTERVALU': 'raster_value'}, inplace=True)\n",
    "centerline.rename(columns={'elevation': 'true_wse'}, inplace=True)\n",
    "wateredge = wateredge_raster_val[['chainage', 'elevation', 'RASTERVALU']]\n",
    "#rename column rastervalu to elevation\n",
    "wateredge.rename(columns={'RASTERVALU': 'raster_value'}, inplace=True)\n",
    "wateredge.rename(columns={'elevation': 'true_wse'}, inplace=True)\n"
   ]
  },
  {
   "cell_type": "code",
   "execution_count": 41,
   "metadata": {},
   "outputs": [],
   "source": [
    "#save dataframe to csv\n",
    "centerline.to_csv(f'{directory}/centerline.csv', index=False)\n",
    "wateredge.to_csv(f'{directory}/wateredge.csv', index=False)"
   ]
  }
 ],
 "metadata": {
  "kernelspec": {
   "display_name": "Python 3.9.5 64-bit",
   "language": "python",
   "name": "python3"
  },
  "language_info": {
   "codemirror_mode": {
    "name": "ipython",
    "version": 3
   },
   "file_extension": ".py",
   "mimetype": "text/x-python",
   "name": "python",
   "nbconvert_exporter": "python",
   "pygments_lexer": "ipython3",
   "version": "3.9.5"
  },
  "orig_nbformat": 4,
  "vscode": {
   "interpreter": {
    "hash": "11938c6bc6919ae2720b4d5011047913343b08a43b18698fd82dedb0d4417594"
   }
  }
 },
 "nbformat": 4,
 "nbformat_minor": 2
}
